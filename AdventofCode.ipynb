{
 "cells": [
  {
   "cell_type": "code",
   "execution_count": 11,
   "metadata": {},
   "outputs": [],
   "source": [
    "#Day 1 Answer 1\n",
    "with open(\"input1.txt\") as fil:\n",
    "    arr = fil.read().splitlines()\n",
    "arr = list(map(int, arr))"
   ]
  },
  {
   "cell_type": "code",
   "execution_count": 16,
   "metadata": {},
   "outputs": [
    {
     "name": "stdout",
     "output_type": "stream",
     "text": [
      "Answer 1 is  525\n"
     ]
    }
   ],
   "source": [
    "import matplotlib.pyplot as plt\n",
    "#plt.plot(arr)\n",
    "print(\"Answer for Day 1 Part 1 is \", sum(arr))"
   ]
  },
  {
   "cell_type": "code",
   "execution_count": 17,
   "metadata": {},
   "outputs": [
    {
     "name": "stdout",
     "output_type": "stream",
     "text": [
      "Done with sum\n",
      "2036\n",
      "Done with comparison\n",
      "Answer was 75749\n"
     ]
    }
   ],
   "source": [
    "#Day 1 Answer 2 \n",
    "arr2 = 2*arr\n",
    "# real value was arr2 = 200*arr\n",
    "for x in range(1, len(arr2)):\n",
    "    if (x%20000 == 0):\n",
    "       print(x)\n",
    "    arr2[x] = arr2[x-1] + arr2[x]\n",
    "print(\"Done with sum\")\n",
    "print(len(arr2))\n",
    "#plt.plot(arr2)\n",
    "for x in range(1, len(arr2)):\n",
    "    if (x%10000 == 0):\n",
    "       print(x)\n",
    "    if (arr2[x] in arr2[0:x]):\n",
    "        print(x, arr2[x]) \n",
    "        break\n",
    "print(\"Done with comparison\")\n",
    "print(\"Answer for Day 1 Part 2 is 75749\")"
   ]
  },
  {
   "cell_type": "code",
   "execution_count": 18,
   "metadata": {},
   "outputs": [],
   "source": [
    "#Day 2 Answer 1\n",
    "with open(\"input2.txt\") as fil:\n",
    "    arr = fil.read().splitlines()"
   ]
  },
  {
   "cell_type": "code",
   "execution_count": 19,
   "metadata": {},
   "outputs": [
    {
     "name": "stdout",
     "output_type": "stream",
     "text": [
      "Answer is  6944\n"
     ]
    }
   ],
   "source": [
    "n_dup = 0\n",
    "n_trip = 0\n",
    "for ii in range(0, len(arr)):\n",
    "    arrl = list(arr[ii])\n",
    "    if (any(arrl.count(x) == 2 for x in arrl)):\n",
    "        n_dup += 1\n",
    "    if (any(arrl.count(x) == 3 for x in arrl)):\n",
    "        n_trip += 1\n",
    "print('Answer for Day 2 Part 1 is ', n_dup*n_trip)"
   ]
  },
  {
   "cell_type": "code",
   "execution_count": 20,
   "metadata": {},
   "outputs": [
    {
     "name": "stdout",
     "output_type": "stream",
     "text": [
      "[15]\n",
      "srijafjzloguvlnvtqmphenbkd\n",
      "srijafjzloguvlnctqmphenbkd\n",
      "[15]\n",
      "srijafjzloguvlnctqmphenbkd\n",
      "srijafjzloguvlnvtqmphenbkd\n"
     ]
    }
   ],
   "source": [
    "#Day 2 Answer 2\n",
    "for ii in range(0, len(arr)):\n",
    "    for jj in range(0, len(arr)):\n",
    "        if (ii != jj):\n",
    "            arr1 = arr[ii]\n",
    "            arr2 = arr[jj]\n",
    "            val = [i for i in range(0,26) if arr1[i] != arr2[i]]\n",
    "            if (len(val) == 1):\n",
    "                print(val)\n",
    "                print(arr1)\n",
    "                print(arr2)\n",
    "                break"
   ]
  },
  {
   "cell_type": "code",
   "execution_count": 286,
   "metadata": {},
   "outputs": [
    {
     "name": "stdout",
     "output_type": "stream",
     "text": [
      "#1 @ 12,548: 19x10\n"
     ]
    }
   ],
   "source": [
    "#Day 3 Answer 1\n",
    "import numpy as np\n",
    "with open(\"input3.txt\") as fil:\n",
    "    arr = fil.read().splitlines()\n",
    "print(arr[0])"
   ]
  },
  {
   "cell_type": "code",
   "execution_count": 287,
   "metadata": {},
   "outputs": [
    {
     "name": "stdout",
     "output_type": "stream",
     "text": [
      "999.0 1000.0\n"
     ]
    }
   ],
   "source": [
    "vals = np.zeros((7, len(arr)))\n",
    "for ii in range(0, len(arr)):\n",
    "    num, val = arr[ii].split(\" @ \")\n",
    "    xloc, val = val.split(\",\")\n",
    "    yloc, val = val.split(\": \")\n",
    "    xd, yd = val.split(\"x\")\n",
    "    vals[3, ii] = float(xd)\n",
    "    vals[4, ii] = float(yd)\n",
    "    vals[1, ii] = float(xloc)\n",
    "    vals[2, ii] = float(yloc)\n",
    "    vals[0, ii] = float(num.split(\"#\")[1])\n",
    "    vals[5, ii] = float(xd) + float(xloc)\n",
    "    vals[6, ii] = float(yd) + float(yloc)\n",
    "print(max(vals[6,:]), max(vals[5,:]))"
   ]
  },
  {
   "cell_type": "code",
   "execution_count": 288,
   "metadata": {},
   "outputs": [
    {
     "data": {
      "text/plain": [
       "118840"
      ]
     },
     "execution_count": 288,
     "metadata": {},
     "output_type": "execute_result"
    }
   ],
   "source": [
    "bigarr = np.zeros((1001,1001))\n",
    "for ii in range(0, len(arr)):\n",
    "      for jj in range(int(vals[2, ii]), int(vals[6, ii])):\n",
    "        bigarr[int(vals[1,ii]):int(vals[5,ii]), jj] += 1\n",
    "val = [bigarr > 1]\n",
    "np.sum(val)"
   ]
  },
  {
   "cell_type": "code",
   "execution_count": 289,
   "metadata": {},
   "outputs": [
    {
     "name": "stdout",
     "output_type": "stream",
     "text": [
      "Answer is  919.0\n"
     ]
    }
   ],
   "source": [
    "#Day 3 Answer 2\n",
    "for ii in range(0, len(arr)):\n",
    "    val1 = vals[3,ii] * vals[4,ii]\n",
    "    val2 = np.sum(bigarr[int(vals[1,ii]):int(vals[5,ii]),int(vals[2, ii]):int(vals[6, ii])])\n",
    "    if (val1 == val2):\n",
    "        print('Answer for Day 3 Part 2 is ', vals[0,ii])"
   ]
  },
  {
   "cell_type": "code",
   "execution_count": 308,
   "metadata": {},
   "outputs": [
    {
     "name": "stdout",
     "output_type": "stream",
     "text": [
      "[1518-03-18 23:57] Guard #1307 begins shift\n",
      "[1518-03-19 00:45] falls asleep\n",
      "[1518-03-19 00:55] wakes up\n",
      "[1518-03-19 23:59] Guard #1153 begins shift\n",
      "[1518-03-21 00:03] Guard #2333 begins shift\n",
      "[1518-03-21 00:16] falls asleep\n",
      "[1518-03-21 00:28] wakes up\n",
      "[1518-03-22 00:00] Guard #1117 begins shift\n",
      "[1518-03-22 00:24] falls asleep\n",
      "[1518-03-22 00:32] wakes up\n"
     ]
    }
   ],
   "source": [
    "#Day 4 Answer 1\n",
    "with open(\"input4.txt\") as fil:\n",
    "    arr = fil.read().splitlines()\n",
    "arr.sort()\n",
    "for i in range(75,85):\n",
    "    print(arr[i])"
   ]
  },
  {
   "cell_type": "code",
   "execution_count": 292,
   "metadata": {},
   "outputs": [
    {
     "data": {
      "text/plain": [
       "265"
      ]
     },
     "execution_count": 292,
     "metadata": {},
     "output_type": "execute_result"
    }
   ],
   "source": [
    "# Figure out number of guards\n",
    "guards = [arr[0], arr[5]]\n",
    "for i in range(6, len(arr)):\n",
    "    if \"Guard\" in arr[i]:\n",
    "        guards.append(arr[i])\n",
    "len(guards)"
   ]
  },
  {
   "cell_type": "code",
   "execution_count": 293,
   "metadata": {},
   "outputs": [],
   "source": [
    "guardnum = np.zeros(265)"
   ]
  },
  {
   "cell_type": "code",
   "execution_count": 327,
   "metadata": {},
   "outputs": [
    {
     "name": "stdout",
     "output_type": "stream",
     "text": [
      "08\n"
     ]
    }
   ],
   "source": [
    "for i in range(0, len(guards)):\n",
    "    if len(guards[i]) == 43:\n",
    "        guardnum[i] = int(guards[i][26:30])\n",
    "    if len(guards[i]) == 42:\n",
    "        guardnum[i] = int(guards[i][26:29])\n",
    "guardnums = list(set(guardnum))\n",
    "bigarr = np.zeros((len(guardnums), 60))\n",
    "arr2 = arr[1]\n",
    "print(arr2[15:17])"
   ]
  },
  {
   "cell_type": "code",
   "execution_count": 1,
   "metadata": {},
   "outputs": [
    {
     "ename": "NameError",
     "evalue": "name 'arr' is not defined",
     "output_type": "error",
     "traceback": [
      "\u001b[0;31m---------------------------------------------------------------------------\u001b[0m",
      "\u001b[0;31mNameError\u001b[0m                                 Traceback (most recent call last)",
      "\u001b[0;32m<ipython-input-1-74046def7a08>\u001b[0m in \u001b[0;36m<module>\u001b[0;34m()\u001b[0m\n\u001b[1;32m      1\u001b[0m \u001b[0mi\u001b[0m \u001b[0;34m=\u001b[0m \u001b[0;36m0\u001b[0m\u001b[0;34m\u001b[0m\u001b[0m\n\u001b[0;32m----> 2\u001b[0;31m \u001b[0;32mwhile\u001b[0m \u001b[0mi\u001b[0m \u001b[0;34m<\u001b[0m \u001b[0mlen\u001b[0m\u001b[0;34m(\u001b[0m\u001b[0marr\u001b[0m\u001b[0;34m)\u001b[0m\u001b[0;34m:\u001b[0m\u001b[0;34m\u001b[0m\u001b[0m\n\u001b[0m\u001b[1;32m      3\u001b[0m     \u001b[0;32mif\u001b[0m \u001b[0;34m\"Guard\"\u001b[0m \u001b[0;32min\u001b[0m \u001b[0marr\u001b[0m\u001b[0;34m[\u001b[0m\u001b[0mi\u001b[0m\u001b[0;34m]\u001b[0m\u001b[0;34m:\u001b[0m\u001b[0;34m\u001b[0m\u001b[0m\n\u001b[1;32m      4\u001b[0m         \u001b[0;32mif\u001b[0m \u001b[0mlen\u001b[0m\u001b[0;34m(\u001b[0m\u001b[0marr\u001b[0m\u001b[0;34m[\u001b[0m\u001b[0mi\u001b[0m\u001b[0;34m]\u001b[0m\u001b[0;34m)\u001b[0m \u001b[0;34m==\u001b[0m \u001b[0;36m43\u001b[0m\u001b[0;34m:\u001b[0m\u001b[0;34m\u001b[0m\u001b[0m\n\u001b[1;32m      5\u001b[0m             \u001b[0mgn\u001b[0m \u001b[0;34m=\u001b[0m \u001b[0mint\u001b[0m\u001b[0;34m(\u001b[0m\u001b[0marr\u001b[0m\u001b[0;34m[\u001b[0m\u001b[0mi\u001b[0m\u001b[0;34m]\u001b[0m\u001b[0;34m[\u001b[0m\u001b[0;36m26\u001b[0m\u001b[0;34m:\u001b[0m\u001b[0;36m30\u001b[0m\u001b[0;34m]\u001b[0m\u001b[0;34m)\u001b[0m\u001b[0;34m\u001b[0m\u001b[0m\n",
      "\u001b[0;31mNameError\u001b[0m: name 'arr' is not defined"
     ]
    }
   ],
   "source": [
    "i = 0\n",
    "while i < len(arr):\n",
    "    if \"Guard\" in arr[i]:\n",
    "        if len(arr[i]) == 43:\n",
    "            gn = int(arr[i][26:30])\n",
    "            i += 1\n",
    "            if \"Guard\" in arr[i]:\n",
    "                gn = int(arr[i][26:30])\n",
    "                i += 1\n",
    "        if len(arr[i]) == 42:\n",
    "            gn = int(arr[i][26:29])\n",
    "            i += 1\n",
    "            if \"Guard\" in arr[i]:\n",
    "                gn = int(arr[i][26:30])\n",
    "                i += 1\n",
    "    tm1 = int(arr[i][15:17])\n",
    "    tm2 = int(arr[i+1][15:17])\n",
    "    ix = guardnums.index(gn)\n",
    "#    print(ix, tm1, tm2)\n",
    "    bigarr[ix, tm1:tm2] += 1\n",
    "    i += 2"
   ]
  },
  {
   "cell_type": "code",
   "execution_count": 321,
   "metadata": {},
   "outputs": [
    {
     "data": {
      "text/plain": [
       "<matplotlib.image.AxesImage at 0x115460c18>"
      ]
     },
     "execution_count": 321,
     "metadata": {},
     "output_type": "execute_result"
    },
    {
     "data": {
      "image/png": "[encoded data removed]",
      "text/plain": [
       "<Figure size 432x288 with 1 Axes>"
      ]
     },
     "metadata": {},
     "output_type": "display_data"
    }
   ],
   "source": [
    "plt.imshow(bigarr)\n",
    "#plt.plot(bigarr[4,:], '.')\n",
    "#for i in range(0,60):\n",
    "#    print(i, bigarr[4, i])"
   ]
  },
  {
   "cell_type": "code",
   "execution_count": 342,
   "metadata": {},
   "outputs": [
    {
     "name": "stdout",
     "output_type": "stream",
     "text": [
      "0 1153.0 0.0\n",
      "1 3203.0 315.0\n",
      "2 269.0 224.0\n",
      "3 2447.0 302.0\n",
      "4 1307.0 362.0\n",
      "5 1051.0 343.0\n",
      "6 2333.0 195.0\n",
      "7 2851.0 412.0\n",
      "8 163.0 447.0\n",
      "9 1061.0 0.0\n",
      "10 691.0 265.0\n",
      "11 2617.0 161.0\n",
      "12 1601.0 483.0\n",
      "13 1091.0 246.0\n",
      "14 967.0 0.0\n",
      "15 2267.0 476.0\n",
      "16 1117.0 144.0\n",
      "17 349.0 188.0\n",
      "18 2399.0 468.0\n",
      "19 353.0 353.0\n",
      "20 3559.0 206.0\n",
      "21 2153.0 343.0\n",
      "22 509.0 246.0\n",
      "Answer is  [73646.]\n"
     ]
    }
   ],
   "source": [
    "for i in range(0,len(guardnums)):\n",
    "    print(i, guardnums[i], bigarr[i,:].sum())\n",
    "maxval = np.where(bigarr[12,:] == bigarr[12,:].max())\n",
    "#plt.plot(bigarr[12,:],'.')\n",
    "print('Answer for Day 4 Part 1 is ', maxval[0]*guardnums[12])"
   ]
  },
  {
   "cell_type": "code",
   "execution_count": 358,
   "metadata": {},
   "outputs": [
    {
     "name": "stdout",
     "output_type": "stream",
     "text": [
      "Answer is  [4727.]\n"
     ]
    }
   ],
   "source": [
    "#Day 4 Answer 2\n",
    "#print(bigarr.max(), np.where(bigarr == bigarr.max()))\n",
    "print('Answer for Day 4 Part 2 is ', guardnums[int(np.where(bigarr == bigarr.max())[0])]* np.where(bigarr == bigarr.max())[1])"
   ]
  },
  {
   "cell_type": "code",
   "execution_count": 151,
   "metadata": {},
   "outputs": [
    {
     "name": "stdout",
     "output_type": "stream",
     "text": [
      "50001\n",
      "50000\n"
     ]
    }
   ],
   "source": [
    "#Day 5 Answer 1\n",
    "with open(\"input5.txt\") as fil:\n",
    "    arr = fil.read()\n",
    "arr = arr[0:50000]\n",
    "print(len(arr))"
   ]
  },
  {
   "cell_type": "code",
   "execution_count": 152,
   "metadata": {},
   "outputs": [],
   "source": [
    "newstr = ''\n",
    "while (newstr != arr):\n",
    "    newstr = arr\n",
    "    i=0\n",
    "    while i < len(arr)-1:\n",
    "        minstr = arr[i:i+2]\n",
    "#        print(minstr)\n",
    "        if ((minstr[0] != minstr[1]) and (minstr[0].lower() == minstr[1].lower())):\n",
    "            arr = arr[0:i] + arr[i+2:]\n",
    "#            print(arr, minstr)\n",
    "            i -=1\n",
    "        i += 1\n",
    " #   print(len(arr))"
   ]
  },
  {
   "cell_type": "code",
   "execution_count": 153,
   "metadata": {},
   "outputs": [
    {
     "name": "stdout",
     "output_type": "stream",
     "text": [
      "Answer for Day 5 Part 1 is  9686\n"
     ]
    }
   ],
   "source": [
    "print('Answer for Day 5 Part 1 is ', len(arr))"
   ]
  },
  {
   "cell_type": "code",
   "execution_count": 207,
   "metadata": {},
   "outputs": [],
   "source": [
    "#Day 5 Part 2\n",
    "import numpy as np\n",
    "with open(\"input5.txt\") as fil:\n",
    "    arrt = fil.read()\n",
    "arrt = arrt[0:len(arrt)-1]\n",
    "lens = np.zeros(26)"
   ]
  },
  {
   "cell_type": "code",
   "execution_count": 209,
   "metadata": {},
   "outputs": [
    {
     "name": "stdout",
     "output_type": "stream",
     "text": [
      "0 50000\n",
      "48050 50000\n",
      "48104 50000\n",
      "48130 50000\n",
      "48088 50000\n",
      "48108 50000\n",
      "48200 50000\n",
      "48006 50000\n",
      "48052 50000\n",
      "48052 50000\n",
      "48038 50000\n",
      "48010 50000\n",
      "48178 50000\n",
      "47982 50000\n",
      "48032 50000\n",
      "48130 50000\n",
      "48138 50000\n",
      "48012 50000\n",
      "48082 50000\n",
      "48020 50000\n",
      "48096 50000\n",
      "48050 50000\n",
      "48006 50000\n",
      "48110 50000\n",
      "48136 50000\n",
      "48126 50000\n",
      "48064 50000\n"
     ]
    }
   ],
   "source": [
    "import re\n",
    "import string\n",
    "print(len(arr), len(arrt))\n",
    "alphl = list(string.ascii_lowercase)\n",
    "alphu = list(string.ascii_uppercase)\n",
    "for jj in range(0, 26):\n",
    "    arr = arrt\n",
    "    arr = re.sub(alphl[jj], '', arr)\n",
    "    arr = re.sub(alphu[jj], '', arr)\n",
    "    print(jj, len(arr), len(arrt))\n",
    "    newstr = ''\n",
    "    while (newstr != arr):\n",
    "        newstr = arr\n",
    "        i=0\n",
    "        while i < len(arr)-1:\n",
    "            minstr = arr[i:i+2]\n",
    "#        print(minstr)\n",
    "            if ((minstr[0] != minstr[1]) and (minstr[0].lower() == minstr[1].lower())):\n",
    "                arr = arr[0:i] + arr[i+2:]\n",
    "#            print(arr, minstr)\n",
    "                i -=1\n",
    "            i += 1\n",
    "    lens[jj] = len(arr)"
   ]
  },
  {
   "cell_type": "code",
   "execution_count": 212,
   "metadata": {},
   "outputs": [
    {
     "name": "stdout",
     "output_type": "stream",
     "text": [
      "Answer for Day 5 Part 2 is  5524.0\n"
     ]
    }
   ],
   "source": [
    "print('Answer for Day 5 Part 2 is ', min(lens))"
   ]
  },
  {
   "cell_type": "code",
   "execution_count": null,
   "metadata": {},
   "outputs": [],
   "source": [
    "#Day 6 Part 1\n"
   ]
  }
 ],
 "metadata": {
  "kernelspec": {
   "display_name": "Python 3",
   "language": "python",
   "name": "python3"
  },
  "language_info": {
   "codemirror_mode": {
    "name": "ipython",
    "version": 3
   },
   "file_extension": ".py",
   "mimetype": "text/x-python",
   "name": "python",
   "nbconvert_exporter": "python",
   "pygments_lexer": "ipython3",
   "version": "3.6.5"
  }
 },
 "nbformat": 4,
 "nbformat_minor": 2
}

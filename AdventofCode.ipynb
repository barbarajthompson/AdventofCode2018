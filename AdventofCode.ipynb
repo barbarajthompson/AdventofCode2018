{
 "cells": [
  {
   "cell_type": "code",
   "execution_count": 11,
   "metadata": {},
   "outputs": [],
   "source": [
    "#Day 1 Answer 1\n",
    "with open(\"input1.txt\") as fil:\n",
    "    arr = fil.read().splitlines()\n",
    "arr = list(map(int, arr))"
   ]
  },
  {
   "cell_type": "code",
   "execution_count": 16,
   "metadata": {},
   "outputs": [
    {
     "name": "stdout",
     "output_type": "stream",
     "text": [
      "Answer 1 is  525\n"
     ]
    }
   ],
   "source": [
    "import matplotlib.pyplot as plt\n",
    "#plt.plot(arr)\n",
    "print(\"Answer 1 is \", sum(arr))"
   ]
  },
  {
   "cell_type": "code",
   "execution_count": 17,
   "metadata": {},
   "outputs": [
    {
     "name": "stdout",
     "output_type": "stream",
     "text": [
      "Done with sum\n",
      "2036\n",
      "Done with comparison\n",
      "Answer was 75749\n"
     ]
    }
   ],
   "source": [
    "#Day 1 Answer 2 \n",
    "arr2 = 2*arr\n",
    "# real value was arr2 = 200*arr\n",
    "for x in range(1, len(arr2)):\n",
    "    if (x%20000 == 0):\n",
    "       print(x)\n",
    "    arr2[x] = arr2[x-1] + arr2[x]\n",
    "print(\"Done with sum\")\n",
    "print(len(arr2))\n",
    "#plt.plot(arr2)\n",
    "for x in range(1, len(arr2)):\n",
    "    if (x%10000 == 0):\n",
    "       print(x)\n",
    "    if (arr2[x] in arr2[0:x]):\n",
    "        print(x, arr2[x]) \n",
    "        break\n",
    "print(\"Done with comparison\")\n",
    "print(\"Answer was 75749\")"
   ]
  },
  {
   "cell_type": "code",
   "execution_count": 18,
   "metadata": {},
   "outputs": [],
   "source": [
    "#Day 2 Answer 1\n",
    "with open(\"input2.txt\") as fil:\n",
    "    arr = fil.read().splitlines()"
   ]
  },
  {
   "cell_type": "code",
   "execution_count": 19,
   "metadata": {},
   "outputs": [
    {
     "name": "stdout",
     "output_type": "stream",
     "text": [
      "Answer is  6944\n"
     ]
    }
   ],
   "source": [
    "n_dup = 0\n",
    "n_trip = 0\n",
    "for ii in range(0, len(arr)):\n",
    "    arrl = list(arr[ii])\n",
    "    if (any(arrl.count(x) == 2 for x in arrl)):\n",
    "        n_dup += 1\n",
    "    if (any(arrl.count(x) == 3 for x in arrl)):\n",
    "        n_trip += 1\n",
    "print('Answer is ', n_dup*n_trip)"
   ]
  },
  {
   "cell_type": "code",
   "execution_count": 20,
   "metadata": {},
   "outputs": [
    {
     "name": "stdout",
     "output_type": "stream",
     "text": [
      "[15]\n",
      "srijafjzloguvlnvtqmphenbkd\n",
      "srijafjzloguvlnctqmphenbkd\n",
      "[15]\n",
      "srijafjzloguvlnctqmphenbkd\n",
      "srijafjzloguvlnvtqmphenbkd\n"
     ]
    }
   ],
   "source": [
    "#Day 2 Answer 2\n",
    "for ii in range(0, len(arr)):\n",
    "    for jj in range(0, len(arr)):\n",
    "        if (ii != jj):\n",
    "            arr1 = arr[ii]\n",
    "            arr2 = arr[jj]\n",
    "            val = [i for i in range(0,26) if arr1[i] != arr2[i]]\n",
    "            if (len(val) == 1):\n",
    "                print(val)\n",
    "                print(arr1)\n",
    "                print(arr2)\n",
    "                break"
   ]
  },
  {
   "cell_type": "code",
   "execution_count": 286,
   "metadata": {},
   "outputs": [
    {
     "name": "stdout",
     "output_type": "stream",
     "text": [
      "#1 @ 12,548: 19x10\n"
     ]
    }
   ],
   "source": [
    "#Day 3 Answer 1\n",
    "import numpy as np\n",
    "with open(\"input3.txt\") as fil:\n",
    "    arr = fil.read().splitlines()\n",
    "print(arr[0])"
   ]
  },
  {
   "cell_type": "code",
   "execution_count": 287,
   "metadata": {},
   "outputs": [
    {
     "name": "stdout",
     "output_type": "stream",
     "text": [
      "999.0 1000.0\n"
     ]
    }
   ],
   "source": [
    "vals = np.zeros((7, len(arr)))\n",
    "for ii in range(0, len(arr)):\n",
    "    num, val = arr[ii].split(\" @ \")\n",
    "    xloc, val = val.split(\",\")\n",
    "    yloc, val = val.split(\": \")\n",
    "    xd, yd = val.split(\"x\")\n",
    "    vals[3, ii] = float(xd)\n",
    "    vals[4, ii] = float(yd)\n",
    "    vals[1, ii] = float(xloc)\n",
    "    vals[2, ii] = float(yloc)\n",
    "    vals[0, ii] = float(num.split(\"#\")[1])\n",
    "    vals[5, ii] = float(xd) + float(xloc)\n",
    "    vals[6, ii] = float(yd) + float(yloc)\n",
    "print(max(vals[6,:]), max(vals[5,:]))"
   ]
  },
  {
   "cell_type": "code",
   "execution_count": 288,
   "metadata": {},
   "outputs": [
    {
     "data": {
      "text/plain": [
       "118840"
      ]
     },
     "execution_count": 288,
     "metadata": {},
     "output_type": "execute_result"
    }
   ],
   "source": [
    "bigarr = np.zeros((1001,1001))\n",
    "for ii in range(0, len(arr)):\n",
    "      for jj in range(int(vals[2, ii]), int(vals[6, ii])):\n",
    "        bigarr[int(vals[1,ii]):int(vals[5,ii]), jj] += 1\n",
    "val = [bigarr > 1]\n",
    "np.sum(val)"
   ]
  },
  {
   "cell_type": "code",
   "execution_count": 289,
   "metadata": {},
   "outputs": [
    {
     "name": "stdout",
     "output_type": "stream",
     "text": [
      "Answer is  919.0\n"
     ]
    }
   ],
   "source": [
    "#Day 3 Answer 2\n",
    "for ii in range(0, len(arr)):\n",
    "    val1 = vals[3,ii] * vals[4,ii]\n",
    "    val2 = np.sum(bigarr[int(vals[1,ii]):int(vals[5,ii]),int(vals[2, ii]):int(vals[6, ii])])\n",
    "    if (val1 == val2):\n",
    "        print('Answer is ', vals[0,ii])"
   ]
  },
  {
   "cell_type": "code",
   "execution_count": 308,
   "metadata": {},
   "outputs": [
    {
     "name": "stdout",
     "output_type": "stream",
     "text": [
      "[1518-03-18 23:57] Guard #1307 begins shift\n",
      "[1518-03-19 00:45] falls asleep\n",
      "[1518-03-19 00:55] wakes up\n",
      "[1518-03-19 23:59] Guard #1153 begins shift\n",
      "[1518-03-21 00:03] Guard #2333 begins shift\n",
      "[1518-03-21 00:16] falls asleep\n",
      "[1518-03-21 00:28] wakes up\n",
      "[1518-03-22 00:00] Guard #1117 begins shift\n",
      "[1518-03-22 00:24] falls asleep\n",
      "[1518-03-22 00:32] wakes up\n"
     ]
    }
   ],
   "source": [
    "#Day 4 Answer 1\n",
    "with open(\"input4.txt\") as fil:\n",
    "    arr = fil.read().splitlines()\n",
    "arr.sort()\n",
    "for i in range(75,85):\n",
    "    print(arr[i])"
   ]
  },
  {
   "cell_type": "code",
   "execution_count": 292,
   "metadata": {},
   "outputs": [
    {
     "data": {
      "text/plain": [
       "265"
      ]
     },
     "execution_count": 292,
     "metadata": {},
     "output_type": "execute_result"
    }
   ],
   "source": [
    "# Figure out number of guards\n",
    "guards = [arr[0], arr[5]]\n",
    "for i in range(6, len(arr)):\n",
    "    if \"Guard\" in arr[i]:\n",
    "        guards.append(arr[i])\n",
    "len(guards)"
   ]
  },
  {
   "cell_type": "code",
   "execution_count": 293,
   "metadata": {},
   "outputs": [],
   "source": [
    "guardnum = np.zeros(265)"
   ]
  },
  {
   "cell_type": "code",
   "execution_count": 327,
   "metadata": {},
   "outputs": [
    {
     "name": "stdout",
     "output_type": "stream",
     "text": [
      "08\n"
     ]
    }
   ],
   "source": [
    "for i in range(0, len(guards)):\n",
    "    if len(guards[i]) == 43:\n",
    "        guardnum[i] = int(guards[i][26:30])\n",
    "    if len(guards[i]) == 42:\n",
    "        guardnum[i] = int(guards[i][26:29])\n",
    "guardnums = list(set(guardnum))\n",
    "bigarr = np.zeros((len(guardnums), 60))\n",
    "arr2 = arr[1]\n",
    "print(arr2[15:17])"
   ]
  },
  {
   "cell_type": "code",
   "execution_count": 328,
   "metadata": {},
   "outputs": [
    {
     "name": "stdout",
     "output_type": "stream",
     "text": [
      "4 8 35\n",
      "4 54 59\n",
      "10 25 30\n",
      "10 47 55\n",
      "4 53 59\n",
      "18 15 24\n",
      "18 39 47\n",
      "7 17 20\n",
      "7 35 36\n",
      "7 42 54\n",
      "5 3 34\n",
      "5 37 55\n",
      "15 12 32\n",
      "15 36 44\n",
      "17 0 40\n",
      "12 6 16\n",
      "12 53 59\n",
      "21 15 45\n",
      "7 7 51\n",
      "4 2 48\n",
      "4 51 57\n",
      "15 7 20\n",
      "15 26 58\n",
      "15 9 11\n",
      "15 27 28\n",
      "15 31 38\n",
      "15 41 53\n",
      "3 13 28\n",
      "3 37 39\n",
      "3 57 59\n",
      "4 45 55\n",
      "6 16 28\n",
      "16 24 32\n",
      "16 42 56\n",
      "22 14 35\n",
      "13 21 43\n",
      "7 26 31\n",
      "8 3 47\n",
      "7 2 9\n",
      "7 15 39\n",
      "7 46 59\n",
      "8 17 38\n",
      "4 19 54\n",
      "19 18 37\n",
      "3 7 30\n",
      "8 5 41\n",
      "8 12 33\n",
      "3 7 21\n",
      "3 30 58\n",
      "8 1 29\n",
      "8 45 51\n",
      "18 52 57\n",
      "13 24 51\n",
      "13 56 58\n",
      "18 21 48\n",
      "5 18 35\n",
      "5 42 49\n",
      "5 54 57\n",
      "2 45 55\n",
      "15 30 57\n",
      "6 33 34\n",
      "6 37 48\n",
      "6 54 57\n",
      "22 15 20\n",
      "22 48 51\n",
      "13 8 38\n",
      "13 44 56\n",
      "1 15 48\n",
      "1 51 59\n",
      "7 21 29\n",
      "7 35 46\n",
      "15 7 39\n",
      "15 4 54\n",
      "15 57 59\n",
      "4 16 57\n",
      "5 8 18\n",
      "3 15 52\n",
      "12 1 11\n",
      "12 20 57\n",
      "7 10 25\n",
      "21 10 27\n",
      "21 37 38\n",
      "21 47 59\n",
      "20 47 48\n",
      "2 15 55\n",
      "1 24 31\n",
      "15 14 51\n",
      "2 45 57\n",
      "12 38 48\n",
      "17 17 28\n",
      "13 9 30\n",
      "12 0 35\n",
      "12 39 54\n",
      "21 20 34\n",
      "21 47 49\n",
      "16 45 46\n",
      "8 2 7\n",
      "8 10 28\n",
      "1 8 27\n",
      "8 22 54\n",
      "8 27 32\n",
      "8 49 56\n",
      "5 56 59\n",
      "21 6 38\n",
      "21 50 55\n",
      "19 22 51\n",
      "12 8 21\n",
      "12 40 53\n",
      "15 17 51\n",
      "12 26 59\n",
      "16 6 31\n",
      "16 45 54\n",
      "1 5 28\n",
      "1 32 45\n",
      "12 19 39\n",
      "18 17 55\n",
      "8 26 31\n",
      "8 37 44\n",
      "8 48 51\n",
      "7 12 32\n",
      "7 39 57\n",
      "12 6 8\n",
      "12 23 49\n",
      "12 55 57\n",
      "21 22 23\n",
      "21 33 55\n",
      "15 21 53\n",
      "15 57 58\n",
      "10 5 7\n",
      "10 27 54\n",
      "8 28 32\n",
      "4 28 35\n",
      "4 41 43\n",
      "4 51 53\n",
      "2 10 15\n",
      "10 17 38\n",
      "10 43 58\n",
      "5 30 57\n",
      "6 37 57\n",
      "4 26 35\n",
      "4 38 43\n",
      "4 54 56\n",
      "20 32 34\n",
      "20 41 56\n",
      "4 55 57\n",
      "3 21 35\n",
      "18 5 13\n",
      "18 43 58\n",
      "6 6 54\n",
      "11 26 37\n",
      "11 44 56\n",
      "5 13 32\n",
      "20 7 56\n",
      "1 12 18\n",
      "1 22 42\n",
      "1 47 54\n",
      "7 29 32\n",
      "7 57 58\n",
      "21 3 14\n",
      "21 34 48\n",
      "6 52 53\n",
      "19 16 24\n",
      "19 47 59\n",
      "15 28 47\n",
      "15 53 57\n",
      "19 4 40\n",
      "19 45 56\n",
      "22 15 23\n",
      "22 42 57\n",
      "8 25 30\n",
      "8 40 47\n",
      "15 15 25\n",
      "15 32 46\n",
      "20 23 58\n",
      "18 30 50\n",
      "18 56 57\n",
      "5 35 40\n",
      "5 43 53\n",
      "3 2 15\n",
      "3 20 22\n",
      "3 51 54\n",
      "3 4 19\n",
      "4 40 53\n",
      "12 2 22\n",
      "12 46 57\n",
      "11 32 47\n",
      "19 36 50\n",
      "2 9 42\n",
      "13 32 53\n",
      "19 29 35\n",
      "19 43 46\n",
      "13 46 54\n",
      "10 32 55\n",
      "2 37 57\n",
      "10 51 53\n",
      "10 35 38\n",
      "10 47 53\n",
      "18 20 58\n",
      "21 36 48\n",
      "19 1 52\n",
      "4 53 58\n",
      "21 24 35\n",
      "21 44 53\n",
      "21 56 59\n",
      "3 4 28\n",
      "3 53 57\n",
      "2 9 35\n",
      "13 38 52\n",
      "10 13 44\n",
      "10 57 59\n",
      "20 43 46\n",
      "19 2 21\n",
      "19 31 56\n",
      "15 12 37\n",
      "15 42 50\n",
      "20 38 47\n",
      "2 7 27\n",
      "2 45 48\n",
      "2 55 58\n",
      "12 14 40\n",
      "4 41 43\n",
      "4 48 52\n",
      "2 27 50\n",
      "2 54 57\n",
      "10 39 49\n",
      "10 54 56\n",
      "22 6 18\n",
      "8 18 50\n",
      "16 0 7\n",
      "16 23 30\n",
      "16 40 54\n",
      "5 17 27\n",
      "5 30 34\n",
      "5 37 53\n",
      "21 18 40\n",
      "21 48 58\n",
      "3 1 43\n",
      "3 54 58\n",
      "17 2 15\n",
      "17 26 43\n",
      "17 46 56\n",
      "18 21 23\n",
      "18 28 41\n",
      "18 47 51\n",
      "21 2 37\n",
      "21 51 54\n",
      "21 57 59\n",
      "7 45 55\n",
      "1 18 20\n",
      "20 49 57\n",
      "12 13 39\n",
      "12 47 55\n",
      "4 12 52\n",
      "22 29 54\n",
      "11 6 55\n",
      "21 39 55\n",
      "8 9 47\n",
      "1 1 18\n",
      "1 39 55\n",
      "19 13 38\n",
      "19 51 53\n",
      "1 39 42\n",
      "1 48 57\n",
      "19 14 15\n",
      "19 41 45\n",
      "19 54 56\n",
      "6 16 49\n",
      "15 11 39\n",
      "11 37 55\n",
      "15 57 59\n",
      "19 16 19\n",
      "19 31 32\n",
      "19 46 49\n",
      "6 13 32\n",
      "4 56 58\n",
      "13 33 43\n",
      "12 34 47\n",
      "18 18 38\n",
      "18 52 53\n",
      "11 11 53\n",
      "11 44 49\n",
      "13 23 45\n",
      "13 56 57\n",
      "3 17 29\n",
      "3 45 47\n",
      "3 56 57\n",
      "12 40 47\n",
      "5 22 32\n",
      "5 36 43\n",
      "10 18 40\n",
      "10 48 51\n",
      "20 40 50\n",
      "12 3 28\n",
      "12 37 53\n",
      "11 46 47\n",
      "11 57 59\n",
      "17 29 31\n",
      "17 35 49\n",
      "8 28 33\n",
      "8 37 39\n",
      "8 48 49\n",
      "19 29 52\n",
      "4 25 58\n",
      "17 6 15\n",
      "17 34 41\n",
      "5 30 42\n",
      "21 7 48\n",
      "21 55 57\n",
      "8 29 34\n",
      "8 43 46\n",
      "8 52 53\n",
      "8 56 58\n",
      "21 55 57\n",
      "7 3 19\n",
      "7 52 58\n",
      "10 10 29\n",
      "10 55 59\n",
      "18 24 49\n",
      "21 40 45\n",
      "22 17 38\n",
      "22 41 51\n",
      "21 34 43\n",
      "18 4 51\n",
      "18 6 57\n",
      "18 15 50\n",
      "7 19 54\n",
      "20 42 55\n",
      "2 12 38\n",
      "12 45 55\n",
      "13 5 58\n",
      "8 17 53\n",
      "22 22 58\n",
      "8 28 43\n",
      "3 6 42\n",
      "3 48 57\n",
      "17 8 51\n",
      "8 24 31\n",
      "7 22 50\n",
      "12 34 38\n",
      "12 41 51\n",
      "12 54 57\n",
      "12 20 57\n",
      "1 28 51\n",
      "1 55 58\n",
      "7 26 31\n",
      "1 7 56\n",
      "4 15 56\n",
      "18 17 46\n",
      "15 25 50\n",
      "10 13 21\n",
      "10 33 46\n",
      "6 9 56\n",
      "5 26 49\n",
      "18 21 28\n",
      "18 49 51\n",
      "15 37 38\n",
      "15 47 58\n",
      "5 24 43\n",
      "5 49 58\n",
      "20 24 36\n",
      "17 15 37\n",
      "16 17 58\n",
      "5 7 46\n",
      "19 5 12\n",
      "19 33 36\n",
      "18 39 50\n",
      "4 34 46\n",
      "4 53 58\n",
      "1 40 59\n",
      "15 33 52\n",
      "5 14 43\n",
      "8 29 53\n",
      "22 2 52\n",
      "7 10 30\n",
      "7 33 57\n",
      "7 1 22\n",
      "7 28 43\n",
      "7 50 59\n",
      "20 22 40\n",
      "20 45 59\n",
      "16 29 47\n",
      "18 5 41\n",
      "1 18 56\n",
      "20 56 58\n",
      "13 39 42\n",
      "19 10 56\n",
      "22 22 25\n",
      "22 33 56\n",
      "7 8 16\n",
      "7 20 50\n",
      "12 24 59\n",
      "10 31 53\n",
      "8 20 24\n",
      "8 29 39\n",
      "8 44 52\n",
      "5 17 31\n",
      "5 39 40\n",
      "18 14 22\n",
      "18 43 51\n",
      "10 34 39\n",
      "10 46 58\n",
      "11 38 44\n",
      "22 14 27\n",
      "22 43 44\n",
      "20 31 37\n",
      "20 41 50\n"
     ]
    }
   ],
   "source": [
    "i = 0\n",
    "while i < len(arr):\n",
    "    if \"Guard\" in arr[i]:\n",
    "        if len(arr[i]) == 43:\n",
    "            gn = int(arr[i][26:30])\n",
    "            i += 1\n",
    "            if \"Guard\" in arr[i]:\n",
    "                gn = int(arr[i][26:30])\n",
    "                i += 1\n",
    "        if len(arr[i]) == 42:\n",
    "            gn = int(arr[i][26:29])\n",
    "            i += 1\n",
    "            if \"Guard\" in arr[i]:\n",
    "                gn = int(arr[i][26:30])\n",
    "                i += 1\n",
    "    tm1 = int(arr[i][15:17])\n",
    "    tm2 = int(arr[i+1][15:17])\n",
    "    ix = guardnums.index(gn)\n",
    "    print(ix, tm1, tm2)\n",
    "    bigarr[ix, tm1:tm2] += 1\n",
    "    i += 2"
   ]
  },
  {
   "cell_type": "code",
   "execution_count": 321,
   "metadata": {},
   "outputs": [
    {
     "data": {
      "text/plain": [
       "<matplotlib.image.AxesImage at 0x115460c18>"
      ]
     },
     "execution_count": 321,
     "metadata": {},
     "output_type": "execute_result"
    },
    {
     "data": {
      "image/png": "[encoded data removed]",
      "text/plain": [
       "<Figure size 432x288 with 1 Axes>"
      ]
     },
     "metadata": {},
     "output_type": "display_data"
    }
   ],
   "source": [
    "plt.imshow(bigarr)\n",
    "#plt.plot(bigarr[4,:], '.')\n",
    "#for i in range(0,60):\n",
    "#    print(i, bigarr[4, i])"
   ]
  },
  {
   "cell_type": "code",
   "execution_count": 342,
   "metadata": {},
   "outputs": [
    {
     "name": "stdout",
     "output_type": "stream",
     "text": [
      "0 1153.0 0.0\n",
      "1 3203.0 315.0\n",
      "2 269.0 224.0\n",
      "3 2447.0 302.0\n",
      "4 1307.0 362.0\n",
      "5 1051.0 343.0\n",
      "6 2333.0 195.0\n",
      "7 2851.0 412.0\n",
      "8 163.0 447.0\n",
      "9 1061.0 0.0\n",
      "10 691.0 265.0\n",
      "11 2617.0 161.0\n",
      "12 1601.0 483.0\n",
      "13 1091.0 246.0\n",
      "14 967.0 0.0\n",
      "15 2267.0 476.0\n",
      "16 1117.0 144.0\n",
      "17 349.0 188.0\n",
      "18 2399.0 468.0\n",
      "19 353.0 353.0\n",
      "20 3559.0 206.0\n",
      "21 2153.0 343.0\n",
      "22 509.0 246.0\n",
      "Answer is  [73646.]\n"
     ]
    }
   ],
   "source": [
    "for i in range(0,len(guardnums)):\n",
    "    print(i, guardnums[i], bigarr[i,:].sum())\n",
    "maxval = np.where(bigarr[12,:] == bigarr[12,:].max())\n",
    "#plt.plot(bigarr[12,:],'.')\n",
    "print('Answer is ', maxval[0]*guardnums[12])"
   ]
  },
  {
   "cell_type": "code",
   "execution_count": 358,
   "metadata": {},
   "outputs": [
    {
     "name": "stdout",
     "output_type": "stream",
     "text": [
      "Answer is  [4727.]\n"
     ]
    }
   ],
   "source": [
    "#Day 4 Answer 2\n",
    "#print(bigarr.max(), np.where(bigarr == bigarr.max()))\n",
    "print('Answer is ', guardnums[int(np.where(bigarr == bigarr.max())[0])]* np.where(bigarr == bigarr.max())[1])"
   ]
  },
  {
   "cell_type": "code",
   "execution_count": null,
   "metadata": {},
   "outputs": [],
   "source": [
    "#Day 5 Answer 1\n"
   ]
  }
 ],
 "metadata": {
  "kernelspec": {
   "display_name": "Python 3",
   "language": "python",
   "name": "python3"
  },
  "language_info": {
   "codemirror_mode": {
    "name": "ipython",
    "version": 3
   },
   "file_extension": ".py",
   "mimetype": "text/x-python",
   "name": "python",
   "nbconvert_exporter": "python",
   "pygments_lexer": "ipython3",
   "version": "3.6.5"
  }
 },
 "nbformat": 4,
 "nbformat_minor": 2
}

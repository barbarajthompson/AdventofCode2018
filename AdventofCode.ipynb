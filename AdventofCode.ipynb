{
 "cells": [
  {
   "cell_type": "code",
   "execution_count": 11,
   "metadata": {},
   "outputs": [],
   "source": [
    "#Day 1 Answer 1\n",
    "with open(\"input1.txt\") as fil:\n",
    "    arr = fil.read().splitlines()\n",
    "arr = list(map(int, arr))"
   ]
  },
  {
   "cell_type": "code",
   "execution_count": 16,
   "metadata": {},
   "outputs": [
    {
     "name": "stdout",
     "output_type": "stream",
     "text": [
      "Answer 1 is  525\n"
     ]
    }
   ],
   "source": [
    "import matplotlib.pyplot as plt\n",
    "#plt.plot(arr)\n",
    "print(\"Answer 1 is \", sum(arr))"
   ]
  },
  {
   "cell_type": "code",
   "execution_count": 17,
   "metadata": {},
   "outputs": [
    {
     "name": "stdout",
     "output_type": "stream",
     "text": [
      "Done with sum\n",
      "2036\n",
      "Done with comparison\n",
      "Answer was 75749\n"
     ]
    }
   ],
   "source": [
    "#Day 1 Answer 2 \n",
    "arr2 = 2*arr\n",
    "# real value was arr2 = 200*arr\n",
    "for x in range(1, len(arr2)):\n",
    "    if (x%20000 == 0):\n",
    "       print(x)\n",
    "    arr2[x] = arr2[x-1] + arr2[x]\n",
    "print(\"Done with sum\")\n",
    "print(len(arr2))\n",
    "#plt.plot(arr2)\n",
    "for x in range(1, len(arr2)):\n",
    "    if (x%10000 == 0):\n",
    "       print(x)\n",
    "    if (arr2[x] in arr2[0:x]):\n",
    "        print(x, arr2[x]) \n",
    "        break\n",
    "print(\"Done with comparison\")\n",
    "print(\"Answer was 75749\")"
   ]
  },
  {
   "cell_type": "code",
   "execution_count": 18,
   "metadata": {},
   "outputs": [],
   "source": [
    "#Day 2 Answer 1\n",
    "with open(\"input2.txt\") as fil:\n",
    "    arr = fil.read().splitlines()"
   ]
  },
  {
   "cell_type": "code",
   "execution_count": 19,
   "metadata": {},
   "outputs": [
    {
     "name": "stdout",
     "output_type": "stream",
     "text": [
      "Answer is  6944\n"
     ]
    }
   ],
   "source": [
    "n_dup = 0\n",
    "n_trip = 0\n",
    "for ii in range(0, len(arr)):\n",
    "    arrl = list(arr[ii])\n",
    "    if (any(arrl.count(x) == 2 for x in arrl)):\n",
    "        n_dup += 1\n",
    "    if (any(arrl.count(x) == 3 for x in arrl)):\n",
    "        n_trip += 1\n",
    "print('Answer is ', n_dup*n_trip)"
   ]
  },
  {
   "cell_type": "code",
   "execution_count": 20,
   "metadata": {},
   "outputs": [
    {
     "name": "stdout",
     "output_type": "stream",
     "text": [
      "[15]\n",
      "srijafjzloguvlnvtqmphenbkd\n",
      "srijafjzloguvlnctqmphenbkd\n",
      "[15]\n",
      "srijafjzloguvlnctqmphenbkd\n",
      "srijafjzloguvlnvtqmphenbkd\n"
     ]
    }
   ],
   "source": [
    "#Day 2 Answer 2\n",
    "for ii in range(0, len(arr)):\n",
    "    for jj in range(0, len(arr)):\n",
    "        if (ii != jj):\n",
    "            arr1 = arr[ii]\n",
    "            arr2 = arr[jj]\n",
    "            val = [i for i in range(0,26) if arr1[i] != arr2[i]]\n",
    "            if (len(val) == 1):\n",
    "                print(val)\n",
    "                print(arr1)\n",
    "                print(arr2)\n",
    "                break"
   ]
  },
  {
   "cell_type": "code",
   "execution_count": 21,
   "metadata": {},
   "outputs": [
    {
     "name": "stdout",
     "output_type": "stream",
     "text": [
      "#1 @ 12,548: 19x10\n"
     ]
    }
   ],
   "source": [
    "#Day 3 Answer 1\n",
    "import numpy as np\n",
    "with open(\"input3.txt\") as fil:\n",
    "    arr = fil.read().splitlines()\n",
    "print(arr[0])"
   ]
  },
  {
   "cell_type": "code",
   "execution_count": 22,
   "metadata": {},
   "outputs": [
    {
     "name": "stdout",
     "output_type": "stream",
     "text": [
      "999.0 1000.0\n"
     ]
    }
   ],
   "source": [
    "vals = np.zeros((7, len(arr)))\n",
    "for ii in range(0, len(arr)):\n",
    "    num, val = arr[ii].split(\" @ \")\n",
    "    xloc, val = val.split(\",\")\n",
    "    yloc, val = val.split(\": \")\n",
    "    xd, yd = val.split(\"x\")\n",
    "    vals[3, ii] = float(xd)\n",
    "    vals[4, ii] = float(yd)\n",
    "    vals[1, ii] = float(xloc)\n",
    "    vals[2, ii] = float(yloc)\n",
    "    vals[0, ii] = float(num.split(\"#\")[1])\n",
    "    vals[5, ii] = float(xd) + float(xloc)\n",
    "    vals[6, ii] = float(yd) + float(yloc)\n",
    "print(max(vals[6,:]), max(vals[5,:]))"
   ]
  },
  {
   "cell_type": "code",
   "execution_count": 23,
   "metadata": {},
   "outputs": [
    {
     "data": {
      "text/plain": [
       "118840"
      ]
     },
     "execution_count": 23,
     "metadata": {},
     "output_type": "execute_result"
    }
   ],
   "source": [
    "bigarr = np.zeros((1001,1001))\n",
    "for ii in range(0, len(arr)):\n",
    "      for jj in range(int(vals[2, ii]), int(vals[6, ii])):\n",
    "        bigarr[int(vals[1,ii]):int(vals[5,ii]), jj] += 1\n",
    "val = [bigarr > 1]\n",
    "np.sum(val)"
   ]
  },
  {
   "cell_type": "code",
   "execution_count": 33,
   "metadata": {},
   "outputs": [
    {
     "name": "stdout",
     "output_type": "stream",
     "text": [
      "Answer is  919.0\n"
     ]
    }
   ],
   "source": [
    "#Day 3 Answer 2\n",
    "for ii in range(0, len(arr)):\n",
    "    val1 = vals[3,ii] * vals[4,ii]\n",
    "    val2 = np.sum(bigarr[int(vals[1,ii]):int(vals[5,ii]),int(vals[2, ii]):int(vals[6, ii])])\n",
    "    if (val1 == val2):\n",
    "        print('Answer is ', vals[0,ii])"
   ]
  },
  {
   "cell_type": "code",
   "execution_count": 34,
   "metadata": {},
   "outputs": [],
   "source": [
    "#Day 4 Answer 1\n"
   ]
  },
  {
   "cell_type": "code",
   "execution_count": null,
   "metadata": {},
   "outputs": [],
   "source": []
  }
 ],
 "metadata": {
  "kernelspec": {
   "display_name": "Python 3",
   "language": "python",
   "name": "python3"
  },
  "language_info": {
   "codemirror_mode": {
    "name": "ipython",
    "version": 3
   },
   "file_extension": ".py",
   "mimetype": "text/x-python",
   "name": "python",
   "nbconvert_exporter": "python",
   "pygments_lexer": "ipython3",
   "version": "3.6.5"
  }
 },
 "nbformat": 4,
 "nbformat_minor": 2
}
